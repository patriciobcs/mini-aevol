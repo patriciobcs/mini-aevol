{
 "cells": [
  {
   "cell_type": "markdown",
   "metadata": {},
   "source": [
    "# Mini Aevol OpenMP Optimization Analysis"
   ]
  },
  {
   "cell_type": "markdown",
   "metadata": {},
   "source": [
    "This notebook is used to analyze the results of the Mini Aevol OpenMP optimization. \n",
    "\n",
    "Aevol is a digital genetics model: populations of digital organisms are subjected to a process of selection and variation, which creates a Darwinian dynamics. The simulation platform comes along with a set of tools for analysing phylogenies and measuring many characteristics of the organisms and populations along evolution.\n",
    "\n",
    "The results can be regenerated in the `experiments` folder by running the following block."
   ]
  },
  {
   "cell_type": "code",
   "execution_count": null,
   "metadata": {},
   "outputs": [],
   "source": [
    "!make setup\n",
    "!make run all "
   ]
  },
  {
   "cell_type": "markdown",
   "metadata": {},
   "source": [
    "## Performance"
   ]
  },
  {
   "cell_type": "markdown",
   "metadata": {},
   "source": [
    "### Level 0 - No parallelization"
   ]
  },
  {
   "cell_type": "markdown",
   "metadata": {},
   "source": [
    "To understand how to increase the performance of a system, it is important to understand the bottlenecks of the system. This can be done by profiling the system. The profiling results are stored in the `experiments` folder. The following block will generate the profiling results of the mini aevol with parallelization level 0 (no parallelization)."
   ]
  },
  {
   "cell_type": "code",
   "execution_count": null,
   "metadata": {},
   "outputs": [],
   "source": [
    "!make prof L=0"
   ]
  },
  {
   "cell_type": "markdown",
   "metadata": {},
   "source": [
    "This generates the following profiling results in the `Instruments` app (MacOS):\n",
    "\n",
    "![Level 0 Profiling](./resources/0.png)"
   ]
  },
  {
   "cell_type": "markdown",
   "metadata": {},
   "source": [
    "We can see that the program spend almost 70% of the time in the `run_step` function (total of all the calls). This makes senses due to it is the place where the mutations are happening. However, this also means that we can optimize the function using OpenMP to parellelize the operations that are executed over the individuals.\n",
    "\n",
    "The `run_step` function is called N times in the simulation. This means that we any optimization we do in the function, will be affecting the system N times.\n",
    "\n",
    "We can also visualize the Flame Graph (from CLion + DTrace) of the profiling results:\n",
    "\n",
    "![Level 0 Flame Graph](./resources/FG0.png)\n",
    "\n",
    "Here we can see that the initialization of Organism and their DNA and `run_evolution`/`run_step` are consuming the majority of time. Overall, the initialization takes more time than the actual evolution. We can see that `locate_promoters` has a a big amount of samples, which means that it is taking a lot of time. This is due to the fact that in the initialization the system needs to find an organism with a good fitness to be able to generate the other ones, this requires the creating of multiple organisms and the evaluation of their fitness. This is something that we can optimize by parallelizing the process but first we're going to optimize the `run_step` function. "
   ]
  },
  {
   "cell_type": "markdown",
   "metadata": {},
   "source": [
    "We have two possible approach to start optimizing the program:\n",
    "\n",
    "- Analyze the section in the same order they are in the previous image and start optimizing what is possible.\n",
    "- Analyze the sections with more than 1% of the total time and start optimizing what is possible in order of execution.\n",
    "\n",
    "We are going to choose the second approach for clarity."
   ]
  },
  {
   "cell_type": "markdown",
   "metadata": {},
   "source": [
    "### Level 1 - Parallelize the mutation of the individuals"
   ]
  },
  {
   "cell_type": "markdown",
   "metadata": {},
   "source": [
    "We saw, in the previous section, that the `run_evolution` function is taking around 40% of the total time. Inside this we can find functions that are executed for each individual inside a sequential for loop. We can parallelize this loop to improve the performance of the program. If they still are consuming more than 1% of the total time, we can optimize them them. \n",
    "\n",
    "The first optimization is done by adding the `#pragma omp parallel for` directive in first section of the `run_step` function:\n",
    "\n",
    "```c++\n",
    "#pragma omp parallel for shared(dna_mutator_array_) if (level_ > 0) num_threads(4)\n",
    "for (int indiv_id = 0; indiv_id < nb_indivs_; indiv_id++) {\n",
    "    selection(indiv_id);\n",
    "    prepare_mutation(indiv_id);\n",
    "\n",
    "    if (dna_mutator_array_[indiv_id]->hasMutate()) {\n",
    "        auto &mutant = internal_organisms_[indiv_id];\n",
    "        mutant->apply_mutations(dna_mutator_array_[indiv_id]->mutation_list_);\n",
    "        mutant->evaluate(target);\n",
    "    }\n",
    "}\n",
    "```\n",
    "\n",
    "We can start with a 4 threads parallelization due to it is a good number for the number of cores of the machine we are using. Later we're going to try different values to see how it affects the performance. The `if (level_ > 0)` is used to accumulate optimization on each level, this means that next levels will include this level.\n",
    "\n",
    "The following block will generate the profiling results of the mini aevol:."
   ]
  },
  {
   "cell_type": "code",
   "execution_count": null,
   "metadata": {},
   "outputs": [],
   "source": [
    "!make prof L=1"
   ]
  },
  {
   "cell_type": "markdown",
   "metadata": {},
   "source": [
    "This generates the following profiling results:\n",
    "\n",
    "![Level 0 Profiling](./resources/1.png)"
   ]
  },
  {
   "cell_type": "markdown",
   "metadata": {},
   "source": [
    "We can see that the execution time of `run_step` decreased radically. \n",
    "\n",
    "The detail of each process can be seen in a Diff Flame Graph:\n",
    "\n",
    "![Level 1 Profiling](./resources/FG1.png)\n",
    "\n",
    "There's a 14.2% of improvement in the performance, mainly in the `run_evolution` process. This is due to the fact that the `run_step` function is called N times inside this function and now it is done in multiple threads."
   ]
  },
  {
   "cell_type": "markdown",
   "metadata": {},
   "source": [
    "### Level 2 - Parallelize the best individual selection"
   ]
  },
  {
   "cell_type": "markdown",
   "metadata": {},
   "source": [
    "In the previous level it was possible to optimize the mutation of the individuals. However, choosing the best individual is still taking almost 30% of the total time. This means that we can parallelize the selection to improve the performance of the program. \n",
    "\n",
    "The selection is more difficult to parallelize than the mutation of the individuals due to it compares the fitness of each animal to determine the best one. We can use reduction to solve this problem. \n",
    "\n",
    "First, we need to swap the population, assign from the previous iteration array of organism to a new array of organism. This can be done in parallel due to the arrays are fixed size and the elements are independent. The following code executed the migration of the organism:\n",
    "\n",
    "```c++\n",
    "// Swap Population\n",
    "#pragma omp parallel for shared(prev_internal_organisms_, internal_organisms_) if (level_ > 1) num_threads(4)\n",
    "for (int indiv_id = 0; indiv_id < nb_indivs_; indiv_id++) {\n",
    "    prev_internal_organisms_[indiv_id] = internal_organisms_[indiv_id];\n",
    "    internal_organisms_[indiv_id] = nullptr;\n",
    "}\n",
    "```\n",
    "\n",
    "\n",
    "\n",
    "OpenMP doesn't offer an appropriated method to find the max value on the for together with its index position. To solve this problem, we can use a custom reduction method that finds the max element together with its index position by using an `struct` (Case). The following code is the custom reduction method and its usage:\n",
    "\n",
    "```c++\n",
    "// Search for the best\n",
    "struct Case { float value; int index; };    \n",
    "#pragma omp declare reduction(best : struct Case : omp_out = omp_in.value > omp_out.value ? omp_in : omp_out)\n",
    "\n",
    "struct Case best_fitness; \n",
    "best_fitness.value = prev_internal_organisms_[0]->fitness;\n",
    "best_fitness.index = 0;\n",
    "\n",
    "#pragma omp parallel for reduction(best:best_fitness) shared(prev_internal_organisms_, internal_organisms_) if (level_ > 1) num_threads(4)\n",
    "for (int indiv_id = 1; indiv_id < nb_indivs_; indiv_id++) {\n",
    "    if (prev_internal_organisms_[indiv_id]->fitness > best_fitness.value) {\n",
    "        best_fitness.index = indiv_id;\n",
    "        best_fitness.value = prev_internal_organisms_[indiv_id]->fitness;\n",
    "    }\n",
    "}\n",
    "best_indiv = prev_internal_organisms_[best_fitness.index];\n",
    "```\n",
    "\n",
    "The following block will generate the profiling results of the mini aevol with parallelization:"
   ]
  },
  {
   "cell_type": "code",
   "execution_count": null,
   "metadata": {},
   "outputs": [],
   "source": [
    "!make prof L=2"
   ]
  },
  {
   "cell_type": "markdown",
   "metadata": {},
   "source": [
    "Now the runtime is the following:\n",
    "\n",
    "![Level 2 Profiling](./resources/2.png)\n",
    "\n",
    "We successfully reduced the execution time of the `run_step` function to less than 1%. \n",
    "\n",
    "The profiling tool is not optimized for OpenMP so it doesn't aggregate the overall runtime between all the threads. The previous results were in the **main thread**. Let's now analyze the results for other threads using a Diff Flame Graph.\n",
    "\n",
    "![Level 2 Profiling](./resources/FG2.png)\n",
    "\n",
    "We can see a 7.2% increase in the performance but there's still optimization possible in the Organism."
   ]
  },
  {
   "cell_type": "markdown",
   "metadata": {},
   "source": [
    "### Level 3 - Parallelize the organisms internal calculations"
   ]
  },
  {
   "cell_type": "markdown",
   "metadata": {},
   "source": [
    "Let's now analyze the `Organism` class. Each organism needs to generate its DNA to be useful, this is done using a random number generator, what is known for being a very expensive operation. We can parallelize the DNA generation to improve the performance of the program.\n",
    "\n",
    "The following code is the parallelization of the DNA generation inside the `DNA` constructor:\n",
    "\n",
    "```c++\n",
    "// Generate a random genome\n",
    "std::uniform_int_distribution<> distrib(0, 1);\n",
    "\n",
    "#pragma omp parallel shared(seq_, rng, distrib, length) default(none) num_threads(4) if (level_ > 2)\n",
    "for (int32_t i = 0; i < length; i++) {\n",
    "    seq_[i] = '0' + distrib(*rng);\n",
    "}\n",
    "```\n",
    "\n",
    "Now, each element of the DNA is generated in parallel. The following block will generate the profiling results of the mini aevol with parallelization:"
   ]
  },
  {
   "cell_type": "code",
   "execution_count": null,
   "metadata": {},
   "outputs": [],
   "source": [
    "!make prof L=3"
   ]
  },
  {
   "cell_type": "markdown",
   "metadata": {},
   "source": [
    "The profiling results are the following:\n",
    "\n",
    "![Level 3 Profiling](./resources/3.png)\n",
    "\n",
    "We can see that the execution time of the `run_step` function decreased to 0.1%.\n",
    "\n",
    "To be able to see the results of the parallelization of the DNA generation, we need to analyze the results of the other threads. The following Diff Flame Graph shows the results:\n",
    "\n",
    "![level 3 Profiling](./resources/FG3.png)"
   ]
  },
  {
   "cell_type": "markdown",
   "metadata": {},
   "source": [
    "## Level 4 - Parallelize the initial Organism generation"
   ]
  },
  {
   "cell_type": "markdown",
   "metadata": {},
   "source": [
    "As we mention in the level 0, the generation of the genesis organism is causing a bottleneck in the execution of the program. We can parallelize this process to improve the performance of the program.\n",
    "\n",
    "The following code is the parallelization of the initial organism generation inside the constructor of `ExpManager`:\n",
    "\n",
    "```c++\n",
    "while (r_compare >= 0) {\n",
    "    double metaerror = geometric_area;\n",
    "    bool stop = false;\n",
    "#pragma omp parallel for shared(rng_, level_, init_length_dna, metaerror, stop) if (level_ > 3) num_threads(4) default(none)\n",
    "    for (int i = 0; i < 128; i++) {\n",
    "        auto random_organism = std::make_shared<Organism>(init_length_dna, rng_, level_);\n",
    "        if (stop) continue;\n",
    "        random_organism->locate_promoters();\n",
    "        random_organism->evaluate(target);\n",
    "        #pragma omp critical\n",
    "        {\n",
    "            if (random_organism->metaerror < metaerror) {\n",
    "                stop = true;\n",
    "                internal_organisms_[0] = random_organism;\n",
    "            }\n",
    "        }\n",
    "    }\n",
    "\n",
    "    if (stop) r_compare = round((internal_organisms_[0]->metaerror - geometric_area) * 1E10) / 1E10;\n",
    "}\n",
    "```\n",
    "It will generate 128 random organisms and select the first that get to a metaerror lower than the geometric area, in this way instead of generating just one organism on each iteration of the while, we can try 128. \n",
    "\n",
    "The following block will generate the profiling results of the mini aevol with parallelization:"
   ]
  },
  {
   "cell_type": "code",
   "execution_count": null,
   "metadata": {},
   "outputs": [],
   "source": [
    "!make prof L=4"
   ]
  },
  {
   "cell_type": "markdown",
   "metadata": {},
   "source": [
    "The profiling results are the following:\n",
    "\n",
    "![Level 4 Profiling](./resources/4.png)\n",
    "\n",
    "We can see that the execution time of the `ExpManager` constructor decreased almost nothing\n",
    "\n",
    "Now let's see the Diff Flame Graph of see the results of the other threads:\n",
    "\n",
    "![level 4 Profiling](./resources/FG4.png)"
   ]
  },
  {
   "cell_type": "markdown",
   "metadata": {},
   "source": [
    "# Level 5 - Parallelize the RNA resize"
   ]
  },
  {
   "cell_type": "markdown",
   "metadata": {},
   "source": [
    "The perfomance has already increased a lot, but we can still improve it. The `Organism` class has a method called `compute_protein`. This method is called on each iteration. We can parallelize this method to improve the performance of the program.\n",
    "\n",
    "```c++ \n",
    "#pragma omp parallel for reduction(+:resize_to) shared(rnas) if (level_ > 4) num_threads(4) default(none)\n",
    "for (int rna_idx = 0; rna_idx < rna_count_; rna_idx++) {\n",
    "    resize_to += rnas[rna_idx]->start_prot.size();\n",
    "}\n",
    "```\n",
    "\n",
    "We are using a simple reduction to sum the size of the `start_prot` vector size of each RNA element.\n",
    "\n",
    "The following block will generate the profiling results of the mini aevol with parallelization:"
   ]
  },
  {
   "cell_type": "code",
   "execution_count": null,
   "metadata": {},
   "outputs": [],
   "source": [
    "!make prof L=5"
   ]
  },
  {
   "cell_type": "markdown",
   "metadata": {},
   "source": [
    "The profiling results are the following:\n",
    "\n",
    "![Level 5 Profiling](./resources/5.png)\n",
    "\n",
    "We can see that the execution time of the `run_step` function decreased in an small difference.\n",
    "\n",
    "Now let's see the Diff Flame Graph of see the results of the other threads:\n",
    "\n",
    "![level 5 Profiling](./resources/FG5.png)"
   ]
  },
  {
   "cell_type": "markdown",
   "metadata": {},
   "source": [
    "## Overall results"
   ]
  },
  {
   "cell_type": "markdown",
   "metadata": {},
   "source": [
    "To be able to compare the results of the parallelization of the mini aevol, we need to aggregate the results of all the levels. The following analysis compares the different levels and how they increase the performance."
   ]
  },
  {
   "cell_type": "code",
   "execution_count": 1,
   "metadata": {},
   "outputs": [],
   "source": [
    "import matplotlib.pyplot as plt\n",
    "import numpy as np\n",
    "from numpy import genfromtxt\n",
    "\n",
    "import pandas as pd\n",
    "\n",
    "import warnings\n",
    "warnings.filterwarnings('ignore')"
   ]
  },
  {
   "cell_type": "code",
   "execution_count": 54,
   "metadata": {},
   "outputs": [
    {
     "data": {
      "text/html": [
       "<div>\n",
       "<style scoped>\n",
       "    .dataframe tbody tr th:only-of-type {\n",
       "        vertical-align: middle;\n",
       "    }\n",
       "\n",
       "    .dataframe tbody tr th {\n",
       "        vertical-align: top;\n",
       "    }\n",
       "\n",
       "    .dataframe thead th {\n",
       "        text-align: right;\n",
       "    }\n",
       "</style>\n",
       "<table border=\"1\" class=\"dataframe\">\n",
       "  <thead>\n",
       "    <tr style=\"text-align: right;\">\n",
       "      <th></th>\n",
       "      <th>runtime</th>\n",
       "    </tr>\n",
       "    <tr>\n",
       "      <th>level</th>\n",
       "      <th></th>\n",
       "    </tr>\n",
       "  </thead>\n",
       "  <tbody>\n",
       "    <tr>\n",
       "      <th>0</th>\n",
       "      <td>4.209347</td>\n",
       "    </tr>\n",
       "    <tr>\n",
       "      <th>1</th>\n",
       "      <td>2.786297</td>\n",
       "    </tr>\n",
       "    <tr>\n",
       "      <th>2</th>\n",
       "      <td>1.795786</td>\n",
       "    </tr>\n",
       "    <tr>\n",
       "      <th>3</th>\n",
       "      <td>1.503894</td>\n",
       "    </tr>\n",
       "    <tr>\n",
       "      <th>4</th>\n",
       "      <td>1.478520</td>\n",
       "    </tr>\n",
       "    <tr>\n",
       "      <th>5</th>\n",
       "      <td>1.434364</td>\n",
       "    </tr>\n",
       "  </tbody>\n",
       "</table>\n",
       "</div>"
      ],
      "text/plain": [
       "        runtime\n",
       "level          \n",
       "0      4.209347\n",
       "1      2.786297\n",
       "2      1.795786\n",
       "3      1.503894\n",
       "4      1.478520\n",
       "5      1.434364"
      ]
     },
     "execution_count": 54,
     "metadata": {},
     "output_type": "execute_result"
    }
   ],
   "source": [
    "df = pd.DataFrame();\n",
    "\n",
    "for level in range(6):\n",
    "  df_level = pd.read_csv(f\"experiments/level_{level}/trace.csv\")\n",
    "  df_new = pd.DataFrame();\n",
    "  df_new['runtime'] = df_level['Duration'].apply(lambda x: x / 1000000000)\n",
    "  df_new['level'] = level\n",
    "  df = df.append(df_new)\n",
    "\n",
    "df.groupby('level').sum()"
   ]
  },
  {
   "cell_type": "markdown",
   "metadata": {},
   "source": [
    "In the previous table, we can see that the biggest improvement was in the level 2, when the selection of each individual was parallelized. The next levels increased the performance but in smaller amounts."
   ]
  },
  {
   "cell_type": "code",
   "execution_count": 88,
   "metadata": {},
   "outputs": [
    {
     "data": {
      "image/png": "[encoded data removed]",
      "text/plain": [
       "<Figure size 640x480 with 1 Axes>"
      ]
     },
     "metadata": {},
     "output_type": "display_data"
    }
   ],
   "source": [
    "for level in range(6):\n",
    "  x = np.arange(len(y))\n",
    "  y = df[df['level'] == level]['runtime'].cumsum()\n",
    "  plt.plot(x, y, label=f\"L{level}\")\n",
    "  plt.legend(title=\"Parallelization Level\")\n",
    "  plt.ylabel('Runtime')\n",
    "  plt.ylim(0.25, 2.25)\n",
    "  plt.xlim(1, 1000)\n",
    "  plt.xlabel('Number of iterations')\n",
    "  plt.title('Runtime vs. Number of iterations')"
   ]
  },
  {
   "cell_type": "markdown",
   "metadata": {},
   "source": [
    "In the previous diagram we can confirm that the L4 and L5 are almost the same with little differences that can be visualized better with bigger examples. However, the difference between the L2 and L3 is more noticeable here than in the previous analysis. The rate of increase of the runtime is way higher for the L2 than for the L3. This happens due to we achieve to reduce the DNA generation, a big bottleneck in the program.\n",
    "\n",
    "We can conclude that the more parallelization clauses we add to the program more difficult is to add new ones. If we add too many parallelization clauses, the program will be harder to maintain and the performance will not increase as much as we expect, it can even decrease. \n",
    "\n",
    "During the development, multiple combinations were tried like using SIMD in some for loops inside the Organism. However, this didn't improve the performance of the program and sometimes it even degraded it."
   ]
  }
 ],
 "metadata": {
  "kernelspec": {
   "display_name": "Python 3.9.6 64-bit",
   "language": "python",
   "name": "python3"
  },
  "language_info": {
   "codemirror_mode": {
    "name": "ipython",
    "version": 3
   },
   "file_extension": ".py",
   "mimetype": "text/x-python",
   "name": "python",
   "nbconvert_exporter": "python",
   "pygments_lexer": "ipython3",
   "version": "3.9.6"
  },
  "orig_nbformat": 4,
  "vscode": {
   "interpreter": {
    "hash": "31f2aee4e71d21fbe5cf8b01ff0e069b9275f58929596ceb00d14d90e3e16cd6"
   }
  }
 },
 "nbformat": 4,
 "nbformat_minor": 2
}
